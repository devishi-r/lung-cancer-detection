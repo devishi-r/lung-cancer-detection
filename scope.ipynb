{
 "cells": [
  {
   "cell_type": "code",
   "execution_count": null,
   "id": "1c0fc3d4",
   "metadata": {},
   "outputs": [
    {
     "name": "stdout",
     "output_type": "stream",
     "text": [
      "\n",
      "Column: Study Description\n",
      "Unique Values (52): ['ThoraxAThoraxRoutine Adult' 'Chest' 'C-SP Chest' 'lungc' 'POS' 'LUNG'\n",
      " 'lungccc' 'CHEST' 'LUNGC' 'C-J' 'lung' 'LUNGCTA' 'chc'\n",
      " 'HeadBHeadSeq6MM Adult' 'CHC' 'CC' 'ch' '5mm chest' 'HeadBHead6MM Adult'\n",
      " 'ABC' 'cc' 'lung3D' 'lungc GSI' 'Chest 3' 'e1 lung'\n",
      " 'Thorax01ThoraxRoutine Adult' 'Chest  3D IMR' 'Chest  3D' 'CH CH.3D'\n",
      " 'Chest 3D' 'chest.3d' 'chest' 'ch.3d ao.cta' 'C.3D' 'ch.3d' 'CHESTC'\n",
      " 'PET01PTheadlung Adult' 'PET02WholebodyOnly Adult'\n",
      " 'PET03WholebodyFirstHead Adult' 'PET03CBMWholebodyFirstHead Adult'\n",
      " 'PETNEW03CBMWholebodyFirstHead Adult' 'PET01WholebodyFirstBody Adult'\n",
      " 'PETNEW02CBMWholebodyOnly Adult' 'PET07PTheadlung Adult'\n",
      " 'PET08WholebodyOnly Adult' 'PET02CBMWholebodyOnly Adult'\n",
      " 'PET02CBMLungOnly Adult' 'CH' 'e1' 'ThoraxThoraxabdo Adult' 'lungC'\n",
      " 'Chest CT']\n",
      "\n",
      "Column: Series Description\n",
      "Unique Values (68): ['ThoraxRoutine  8.0.0  B40f' '5mm' 'ThoraxRoutine  10.0  B40f'\n",
      " 'ThoraxRoutine  8.0.0  B70f' 'ThoraxRoutine  10.0  B70f' '5mm Lung SS50'\n",
      " 'A phase 5mm Stnd SS50' 'Recon 2 5mm' 'Smart Prep Series' '5mm Stnd SS50'\n",
      " 'd phase lung' '1.25mm' 'tmp  ThoraxRoutine  RTD'\n",
      " 'ThoraxRoutine  2.0.0  B40f' 'ThoraxRoutine  5.0.0  B70f' 'Recon 2'\n",
      " '5mm Std' '0.625mm' 'Scout' 'Recon 3 A phase 5mm Stnd SS50'\n",
      " 'AbdRoutine  3.0  B40f' 'Recon 3 A phase 5mm QC' 'A phase 5mm QC'\n",
      " '5mm Lung' '10mm' 'Thorax  5.0  B31f' 'Thorax  5.0  B80f'\n",
      " 'Thorax  1.0  B31f' 'Thorax  6.0  B80f' 'Thorax  6.0  B31f'\n",
      " 'Thorax  1.0  B70f' 'Recon 3 5mm' 'iDose 2' 'iDose 4'\n",
      " 'lung IDose iDose 4' 'lung iDose 3' 'IMR' 'FBP' 'Hip  3.0  B31s'\n",
      " 'Hip  3.0  B70s' 'AbdRoutine  5.0  B40f' 'iDose 3' 'Chest 5mm LUNG'\n",
      " 'Chest 5mm STND' '1.25mm C' '5mm C' 'Chest 0.25 MM' 'stnd 0.25 MM'\n",
      " 'A phase 5mm' 'ThoraxRoutine  6.0.0  B70f' 'ThoraxRoutine  7.0.0  B40f'\n",
      " 'Range-CT WB  1.0  B30f-Tra-ALPHA Range' 'ALPHA Range' 'CT WB  3.0  B30f'\n",
      " 'PET WB Corrected' 'ALPHA Range1' 'CT WB  1.0  B30f' 'CT lung  3.0  B70f'\n",
      " 'Thorax  3.0  B70f' 'ALPHA Range2'\n",
      " 'Range-CT WB  3.0  B30f-Tra-ALPHA Range'\n",
      " 'Range-Thorax  1.0  B70f-Tra-ALPHA Range' 'Thorax  5.0  B70f' 'A iDose 2'\n",
      " 'V iDose 2' 'D iDose 2' 'lung' 'Range-CT WB  1.0  B30f-Tra-MPR Range']\n",
      "\n",
      "Column: Manufacturer\n",
      "Unique Values (3): ['SIEMENS' 'Philips' 'GE MEDICAL SYSTEMS']\n",
      "\n",
      "Column: Modality\n",
      "Unique Values (2): ['CT' 'PT']\n",
      "\n",
      "Column: SOP Class Name\n",
      "Unique Values (3): ['CT Image Storage' 'Secondary Capture Image Storage'\n",
      " 'Positron Emission Tomography Image Storage']\n"
     ]
    }
   ],
   "source": [
    "import pandas as pd\n",
    "\n",
    "df = pd.read_csv('metadata.csv')\n",
    "selected_columns = ['Study Description', 'Series Description', 'Manufacturer', 'Modality', 'SOP Class Name']\n",
    "for col in selected_columns:\n",
    "    unique_vals = df[col].unique()\n",
    "    print(f\"\\nColumn: {col}\")\n",
    "    print(f\"Unique Values ({len(unique_vals)}): {unique_vals}\")\n"
   ]
  },
  {
   "cell_type": "code",
   "execution_count": null,
   "id": "b8a5c932",
   "metadata": {},
   "outputs": [
    {
     "name": "stdout",
     "output_type": "stream",
     "text": [
      "Number of image files (across all subfolders) per category:\n",
      "Category A: 184305 files\n",
      "Category B: 17106 files\n",
      "Category E: 808 files\n",
      "Category G: 48916 files\n"
     ]
    }
   ],
   "source": [
    "import os\n",
    "import re\n",
    "from collections import defaultdict\n",
    "\n",
    "parent_dir = \"Lung-PET-CT-Dx/\"\n",
    "\n",
    "categories = ['A', 'B', 'E', 'G']\n",
    "category_file_counts = defaultdict(int)\n",
    "\n",
    "pattern = re.compile(r\"Lung_Dx-([ABEG])\\d+\", re.IGNORECASE)\n",
    "\n",
    "for item in os.listdir(parent_dir):\n",
    "    user_folder_path = os.path.join(parent_dir, item)\n",
    "    \n",
    "    # Ensure it's a directory and matches our naming pattern\n",
    "    if os.path.isdir(user_folder_path):\n",
    "        match = pattern.match(item)\n",
    "        if match:\n",
    "            category = match.group(1).upper()\n",
    "            if category in categories:\n",
    "                for root, dirs, files in os.walk(user_folder_path):\n",
    "                    category_file_counts[category] += len(files)\n",
    "\n",
    "# Print results\n",
    "print(\"Number of image files (across all subfolders) per category:\")\n",
    "for category in categories:\n",
    "    print(f\"Category {category}: {category_file_counts[category]} files\")\n"
   ]
  }
 ],
 "metadata": {
  "kernelspec": {
   "display_name": "Python 3",
   "language": "python",
   "name": "python3"
  },
  "language_info": {
   "codemirror_mode": {
    "name": "ipython",
    "version": 3
   },
   "file_extension": ".py",
   "mimetype": "text/x-python",
   "name": "python",
   "nbconvert_exporter": "python",
   "pygments_lexer": "ipython3",
   "version": "3.11.5"
  }
 },
 "nbformat": 4,
 "nbformat_minor": 5
}
